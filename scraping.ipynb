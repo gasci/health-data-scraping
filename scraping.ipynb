{
  "nbformat": 4,
  "nbformat_minor": 0,
  "metadata": {
    "colab": {
      "name": "Scraping.ipynb",
      "provenance": [],
      "collapsed_sections": []
    },
    "kernelspec": {
      "name": "python3",
      "display_name": "Python 3"
    }
  },
  "cells": [
    {
      "cell_type": "code",
      "metadata": {
        "id": "En3Mg7PfqLEO"
      },
      "source": [
        "import pandas as pd"
      ],
      "execution_count": 103,
      "outputs": []
    },
    {
      "cell_type": "code",
      "metadata": {
        "colab": {
          "base_uri": "https://localhost:8080/"
        },
        "id": "gs3m58xCb3sH",
        "outputId": "f3fae33c-3b42-4294-ca71-099fa23f4a1d"
      },
      "source": [
        "from requests import get\n",
        "url = 'https://www.aha.org/statistics/fast-facts-us-hospitals'\n",
        "response = get(url, headers = {\"Accept-Language\": \"en-US, en;q=0.5\"})\n",
        "print(response.text[:500])"
      ],
      "execution_count": 47,
      "outputs": [
        {
          "output_type": "stream",
          "text": [
            "<!DOCTYPE html>\n",
            "<html lang=\"en\" dir=\"ltr\" prefix=\"og: https://ogp.me/ns#\">\n",
            "  <head>\n",
            "    <meta charset=\"utf-8\" /><script type=\"text/javascript\">(window.NREUM||(NREUM={})).loader_config={licenseKey:\"ef0243a3c2\",applicationID:\"392991312\"};window.NREUM||(NREUM={}),__nr_require=function(e,t,n){function r(n){if(!t[n]){var i=t[n]={exports:{}};e[n][0].call(i.exports,function(t){var i=e[n][1][t];return r(i||t)},i,i.exports)}return t[n].exports}if(\"function\"==typeof __nr_require)return __nr_require;for(va\n"
          ],
          "name": "stdout"
        }
      ]
    },
    {
      "cell_type": "code",
      "metadata": {
        "id": "ncxy_i5KgI4u"
      },
      "source": [
        "from bs4 import BeautifulSoup\n",
        "html_soup = BeautifulSoup(response.text, 'html.parser')\n",
        "#type(html_soup)"
      ],
      "execution_count": 128,
      "outputs": []
    },
    {
      "cell_type": "code",
      "metadata": {
        "id": "tbE7-xFDhNlR"
      },
      "source": [
        "table = html_soup.find_all(\"table\", attrs={\"class\" : \"table table-bordered\"})"
      ],
      "execution_count": 129,
      "outputs": []
    },
    {
      "cell_type": "code",
      "metadata": {
        "id": "ir6BtBgOhdlR"
      },
      "source": [
        "items = table[0].tbody.find_all(\"td\")"
      ],
      "execution_count": 130,
      "outputs": []
    },
    {
      "cell_type": "code",
      "metadata": {
        "id": "0zKn7FvLo9Yk"
      },
      "source": [
        "titles = [title.p.text for index, title in enumerate(items) if index % 2 == 0 ]"
      ],
      "execution_count": 131,
      "outputs": []
    },
    {
      "cell_type": "code",
      "metadata": {
        "id": "OE_hzMlvnjgN"
      },
      "source": [
        "values = [value.p.text for index, value in enumerate(items) if index % 2 != 0 ]"
      ],
      "execution_count": 132,
      "outputs": []
    },
    {
      "cell_type": "code",
      "metadata": {
        "id": "UnDIx-nwqB__"
      },
      "source": [
        "facts_US_table = pd.DataFrame(\n",
        "    {'fact': titles,\n",
        "     'value': values,\n",
        "    })"
      ],
      "execution_count": 133,
      "outputs": []
    },
    {
      "cell_type": "code",
      "metadata": {
        "id": "jbOIwfGksCCn"
      },
      "source": [
        "#increase the fact column width\n",
        "pd.options.display.max_colwidth = 200"
      ],
      "execution_count": 134,
      "outputs": []
    },
    {
      "cell_type": "code",
      "metadata": {
        "colab": {
          "base_uri": "https://localhost:8080/",
          "height": 762
        },
        "id": "pqWh0-f_rO4W",
        "outputId": "dc71af3f-83ba-4a68-9d81-2856cf64d4cb"
      },
      "source": [
        "facts_US_table[(facts_US_table['value'] != '\\xa0') & (facts_US_table['fact'] != '\\xa0')]"
      ],
      "execution_count": 135,
      "outputs": [
        {
          "output_type": "execute_result",
          "data": {
            "text/html": [
              "<div>\n",
              "<style scoped>\n",
              "    .dataframe tbody tr th:only-of-type {\n",
              "        vertical-align: middle;\n",
              "    }\n",
              "\n",
              "    .dataframe tbody tr th {\n",
              "        vertical-align: top;\n",
              "    }\n",
              "\n",
              "    .dataframe thead th {\n",
              "        text-align: right;\n",
              "    }\n",
              "</style>\n",
              "<table border=\"1\" class=\"dataframe\">\n",
              "  <thead>\n",
              "    <tr style=\"text-align: right;\">\n",
              "      <th></th>\n",
              "      <th>fact</th>\n",
              "      <th>value</th>\n",
              "    </tr>\n",
              "  </thead>\n",
              "  <tbody>\n",
              "    <tr>\n",
              "      <th>0</th>\n",
              "      <td>Total Number of All U.S. Hospitals</td>\n",
              "      <td>6,090</td>\n",
              "    </tr>\n",
              "    <tr>\n",
              "      <th>1</th>\n",
              "      <td>Number of U.S. Community 1 Hospitals</td>\n",
              "      <td>5,141</td>\n",
              "    </tr>\n",
              "    <tr>\n",
              "      <th>2</th>\n",
              "      <td>Number of Nongovernment Not-for-Profit Community Hospitals</td>\n",
              "      <td>2,946</td>\n",
              "    </tr>\n",
              "    <tr>\n",
              "      <th>3</th>\n",
              "      <td>Number of Investor-Owned (For-Profit) Community Hospitals</td>\n",
              "      <td>1,233</td>\n",
              "    </tr>\n",
              "    <tr>\n",
              "      <th>4</th>\n",
              "      <td>Number of State and Local Government Community Hospitals</td>\n",
              "      <td>962</td>\n",
              "    </tr>\n",
              "    <tr>\n",
              "      <th>5</th>\n",
              "      <td>Number of Federal Government Hospitals</td>\n",
              "      <td>208</td>\n",
              "    </tr>\n",
              "    <tr>\n",
              "      <th>6</th>\n",
              "      <td>Number of Nonfederal Psychiatric Hospitals</td>\n",
              "      <td>625</td>\n",
              "    </tr>\n",
              "    <tr>\n",
              "      <th>7</th>\n",
              "      <td>Other 2 Hospitals</td>\n",
              "      <td>116</td>\n",
              "    </tr>\n",
              "    <tr>\n",
              "      <th>9</th>\n",
              "      <td>Total Staffed Beds in All U.S. Hospitals</td>\n",
              "      <td>919,559</td>\n",
              "    </tr>\n",
              "    <tr>\n",
              "      <th>10</th>\n",
              "      <td>Staffed Beds in Community 1 Hospitals</td>\n",
              "      <td>787,995</td>\n",
              "    </tr>\n",
              "    <tr>\n",
              "      <th>12</th>\n",
              "      <td>Medical-Surgical Intensive Care 4 Beds in Community Hospitals</td>\n",
              "      <td>55,663</td>\n",
              "    </tr>\n",
              "    <tr>\n",
              "      <th>13</th>\n",
              "      <td>Cardiac Intensive Care 5 Beds in Community Hospitals</td>\n",
              "      <td>15,160</td>\n",
              "    </tr>\n",
              "    <tr>\n",
              "      <th>14</th>\n",
              "      <td>Neonatal Intensive Care 6 Beds in Community Hospitals</td>\n",
              "      <td>22,721</td>\n",
              "    </tr>\n",
              "    <tr>\n",
              "      <th>15</th>\n",
              "      <td>Pediatric Intensive Care 7 Beds in Community Hospitals</td>\n",
              "      <td>5,115</td>\n",
              "    </tr>\n",
              "    <tr>\n",
              "      <th>16</th>\n",
              "      <td>Burn Care 8 Beds in Community Hospitals</td>\n",
              "      <td>1,198</td>\n",
              "    </tr>\n",
              "    <tr>\n",
              "      <th>17</th>\n",
              "      <td>Other Intensive Care 9 Beds in Community Hospitals</td>\n",
              "      <td>7,419</td>\n",
              "    </tr>\n",
              "    <tr>\n",
              "      <th>18</th>\n",
              "      <td>Total Admissions in All U.S. Hospitals</td>\n",
              "      <td>36,241,815</td>\n",
              "    </tr>\n",
              "    <tr>\n",
              "      <th>19</th>\n",
              "      <td>Admissions in Community 1 Hospitals</td>\n",
              "      <td>34,078,100</td>\n",
              "    </tr>\n",
              "    <tr>\n",
              "      <th>20</th>\n",
              "      <td>Total Expenses for All U.S. Hospitals</td>\n",
              "      <td>$1,161,032,419,000</td>\n",
              "    </tr>\n",
              "    <tr>\n",
              "      <th>21</th>\n",
              "      <td>Expenses for Community 1 Hospitals</td>\n",
              "      <td>$1,056,497,068,000</td>\n",
              "    </tr>\n",
              "    <tr>\n",
              "      <th>23</th>\n",
              "      <td>Number of Rural Community  Hospitals</td>\n",
              "      <td>1,805</td>\n",
              "    </tr>\n",
              "    <tr>\n",
              "      <th>24</th>\n",
              "      <td>Number of Urban Community  Hospitals</td>\n",
              "      <td>3,336</td>\n",
              "    </tr>\n",
              "    <tr>\n",
              "      <th>26</th>\n",
              "      <td>Number of Community Hospitals in a System 10</td>\n",
              "      <td>3,453</td>\n",
              "    </tr>\n",
              "  </tbody>\n",
              "</table>\n",
              "</div>"
            ],
            "text/plain": [
              "                                                             fact               value\n",
              "0                              Total Number of All U.S. Hospitals               6,090\n",
              "1                            Number of U.S. Community 1 Hospitals               5,141\n",
              "2      Number of Nongovernment Not-for-Profit Community Hospitals               2,946\n",
              "3       Number of Investor-Owned (For-Profit) Community Hospitals               1,233\n",
              "4        Number of State and Local Government Community Hospitals                 962\n",
              "5                          Number of Federal Government Hospitals                 208\n",
              "6                      Number of Nonfederal Psychiatric Hospitals                 625\n",
              "7                                               Other 2 Hospitals                 116\n",
              "9                        Total Staffed Beds in All U.S. Hospitals             919,559\n",
              "10                          Staffed Beds in Community 1 Hospitals             787,995\n",
              "12  Medical-Surgical Intensive Care 4 Beds in Community Hospitals              55,663\n",
              "13           Cardiac Intensive Care 5 Beds in Community Hospitals              15,160\n",
              "14          Neonatal Intensive Care 6 Beds in Community Hospitals              22,721\n",
              "15         Pediatric Intensive Care 7 Beds in Community Hospitals               5,115\n",
              "16                        Burn Care 8 Beds in Community Hospitals               1,198\n",
              "17             Other Intensive Care 9 Beds in Community Hospitals               7,419\n",
              "18                         Total Admissions in All U.S. Hospitals          36,241,815\n",
              "19                            Admissions in Community 1 Hospitals          34,078,100\n",
              "20                          Total Expenses for All U.S. Hospitals  $1,161,032,419,000\n",
              "21                             Expenses for Community 1 Hospitals  $1,056,497,068,000\n",
              "23                           Number of Rural Community  Hospitals               1,805\n",
              "24                           Number of Urban Community  Hospitals               3,336\n",
              "26                   Number of Community Hospitals in a System 10               3,453"
            ]
          },
          "metadata": {
            "tags": []
          },
          "execution_count": 135
        }
      ]
    },
    {
      "cell_type": "code",
      "metadata": {
        "id": "OKkstNJKq6WZ"
      },
      "source": [
        "definitions = html_soup.select('p[id*=\"footnote\"]')"
      ],
      "execution_count": 138,
      "outputs": []
    },
    {
      "cell_type": "code",
      "metadata": {
        "colab": {
          "base_uri": "https://localhost:8080/"
        },
        "id": "Q4Yondj1tKJo",
        "outputId": "b5bfd42a-b42d-42ad-9008-7c908fc17c74"
      },
      "source": [
        "for definition in definitions:\n",
        "  print(definition.strong.text)\n",
        "  print(definition.text + '\\n')"
      ],
      "execution_count": 142,
      "outputs": [
        {
          "output_type": "stream",
          "text": [
            "Community hospitals\n",
            "1. Community hospitals are defined as all nonfederal, short-term general, and other special hospitals. Other special hospitals include obstetrics and gynecology; eye, ear, nose, and throat; long term acute-care; rehabilitation; orthopedic; and other individually described specialty services. Community hospitals include academic medical centers or other teaching hospitals if they are nonfederal short-term hospitals.  Excluded are hospitals not accessible by the general public, such as prison hospitals or college infirmaries.\n",
            "\n",
            "Other hospitals\n",
            "2. Other hospitals include nonfederal long term care hospitals and hospital units within an institution such as a prison hospital or school infirmary. Long term care hospitals may be defined by different methods; here they include other hospitals with an average length of stay of 30 or more days.\n",
            "\n",
            "Intensive care bed counts\n",
            "3. Intensive care bed counts are reported on the AHA Annual Survey by approximately 80% of hospitals. Therefore, the Intensive care bed counts have been supplemented with FY2018 data reported in the CMS Healthcare Cost Report Information System (HCRIS). Total intensive care beds are not summed because the care provided is specialized. Fast Facts will be updated with FY2019 ICU bed counts in February 2021.\n",
            "\n",
            "Medical-surgical intensive care.\n",
            "4. Medical-surgical intensive care. Provides patient care of a more intensive nature than the usual medical and surgical care, on the basis of physicians’ orders and approved nursing care plans. These units are staffed with specially trained nursing personnel and contain monitoring and specialized support equipment for patients who because of shock, trauma or other life-threatening conditions require intensified comprehensive observation and care. Includes mixed intensive care units.\n",
            "\n",
            "Cardiac intensive care.\n",
            "5. Cardiac intensive care. Provides patient care of a more specialized nature than the usual medical and surgical care, on the basis of physicians’ orders and approved nursing care plans. The unit is staffed with specially trained nursing personnel and contains monitoring and specialized support or treatment equipment for patients who, because of heart seizure, open-heart surgery, or other life-threatening conditions, require intensified, comprehensive observation and care. May include myocardial infarction, pulmonary care, and heart transplant units.\n",
            "\n",
            "Neonatal intensive care.\n",
            "6. Neonatal intensive care. A unit that must be separate from the newborn nursery providing intensive care to all sick infants including those with the very lowest birth weights (less than 1500 grams). NICU has potential for providing mechanical ventilation, neonatal surgery, and special care for the sickest infants born in the hospital or transferred from another institution. A full-time neonatologist serves as director of the NICU.\n",
            "\n",
            "Pediatric intensive care.\n",
            "7. Pediatric intensive care. Provides care to pediatric patients that is of a more intensive nature than that usually provided to pediatric patients. The unit is staffed with specially trained personnel and contains monitoring and specialized support equipment for treatment of patients who, because of shock, trauma, or other life-threatening conditions, require intensified, comprehensive observation and care.\n",
            "\n",
            "Burn care.\n",
            "8. Burn care. Provides care to severely burned patients. Severely burned patients are those with any of the following: (1) second-degree burns of more than 25% total body surface area for adults or 20% total body surface area for children: (2) third-degree burns of more than 10% total body surface area; (3) any severe burns of the hands, face, eyes, ears, or feet; or (4) all inhalation injuries, electrical burns, complicated burn injuries involving fractures and other major traumas, and all other poor risk factors.\n",
            "\n",
            "Other intensive care.\n",
            "9. Other intensive care. A specially staffed, specialty equipped, separate section of a hospital dedicated to the observation, care, and treatment of patients with life-threatening illnesses, injuries, or complications from which recovery is possible. It provides special expertise and facilities for the support of vital function and utilizes the skill of medical nursing and other staff experienced in the management of these problems.\n",
            "\n",
            "System\n",
            "10. System is defined by AHA as either a multihospital or a diversified single hospital system. A multihospital system is two or more hospitals owned, leased, sponsored, or contract managed by a central organization. Single, freestanding hospitals may be categorized as a system by bringing into membership three or more, and at least 25 percent, of their owned or leased non-hospital pre-acute or post-acute health care organizations. System affiliation does not preclude network participation.\n",
            "\n"
          ],
          "name": "stdout"
        }
      ]
    },
    {
      "cell_type": "code",
      "metadata": {
        "id": "RfnEP9cVtVgU"
      },
      "source": [
        ""
      ],
      "execution_count": null,
      "outputs": []
    }
  ]
}